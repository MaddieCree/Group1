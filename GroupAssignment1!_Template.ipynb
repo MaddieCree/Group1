{
  "nbformat": 4,
  "nbformat_minor": 0,
  "metadata": {
    "colab": {
      "name": "GroupAssignment1!-Template.ipynb",
      "provenance": [],
      "collapsed_sections": [],
      "include_colab_link": true
    },
    "kernelspec": {
      "name": "python3",
      "display_name": "Python 3"
    }
  },
  "cells": [
    {
      "cell_type": "markdown",
      "metadata": {
        "id": "view-in-github",
        "colab_type": "text"
      },
      "source": [
        "<a href=\"https://colab.research.google.com/github/MaddieCree/Group1/blob/master/GroupAssignment1!_Template.ipynb\" target=\"_parent\"><img src=\"https://colab.research.google.com/assets/colab-badge.svg\" alt=\"Open In Colab\"/></a>"
      ]
    },
    {
      "cell_type": "markdown",
      "metadata": {
        "id": "UblhAIGuGF27",
        "colab_type": "text"
      },
      "source": [
        "# JFK Airport"
      ]
    },
    {
      "cell_type": "markdown",
      "metadata": {
        "id": "RlR0_Ol4GW3b",
        "colab_type": "text"
      },
      "source": [
        "### what is your idea?"
      ]
    },
    {
      "cell_type": "markdown",
      "metadata": {
        "id": "HU68Zv5MGY97",
        "colab_type": "text"
      },
      "source": [
        "-- Our idea is to create an entity diagram which portrays the airports everyday operations. More specifically, we would like to provide the departure/arrival times, customer interactions, worker relations, cost per flight and security measures. \n",
        "\n",
        ">>> \n"
      ]
    },
    {
      "cell_type": "markdown",
      "metadata": {
        "id": "45Q0PBrIGiIg",
        "colab_type": "text"
      },
      "source": [
        "### what makes it unique?"
      ]
    },
    {
      "cell_type": "markdown",
      "metadata": {
        "id": "8WOfTAuqGjoc",
        "colab_type": "text"
      },
      "source": [
        "-- The process of running an aiport has many complex attributes throughout its daily schedule in order to run smoothly. This includes the numerous amount of different workers/customers all in one place for various purposes. This makes the organization of data crucial to ensure the airport runs safely and efficiently. "
      ]
    },
    {
      "cell_type": "markdown",
      "metadata": {
        "id": "dVrktWdXGl19",
        "colab_type": "text"
      },
      "source": [
        "### is this a brand-new product or business, or are you borrowing from another business? "
      ]
    },
    {
      "cell_type": "markdown",
      "metadata": {
        "id": "MmGY0leUGnaN",
        "colab_type": "text"
      },
      "source": [
        "-- We are borrowing this idea from airports around the world, for example JFK airport. Our experience in airports gave us this idea because we have seen how chaotic it can be, and the consequences of not being organized can have disastrous effects on customer satisfactions and operations. "
      ]
    },
    {
      "cell_type": "markdown",
      "metadata": {
        "id": "k3oJzVDPGnws",
        "colab_type": "text"
      },
      "source": [
        "### describe a typical business interaction or a day at your business."
      ]
    },
    {
      "cell_type": "markdown",
      "metadata": {
        "id": "GeEKl-lUG1x5",
        "colab_type": "text"
      },
      "source": [
        "-- Each day at our business is planned and calculated much in advance. Every plane has to be deemed ready for travel, the flight schedule has to be exactly on time to ensure safe departue/arrivl as well as safe air travel. The security has to work sharp but efficiently to avoid attacks or any threat posed in the airport. The customer must be able to check in, go through baggage claim and security with no issues before finding their gate to board the plane on time. There are workers behind the scene that have to ensure the operations are running accordingly, the workers are doing their job, and customers are satisfied. The airport also must be able to handle interruptions correctly, such as faulty planes, gate or flight changes and delays, and threat."
      ]
    },
    {
      "cell_type": "markdown",
      "metadata": {
        "id": "iUFoC5BuGpID",
        "colab_type": "text"
      },
      "source": [
        "### list your 5 entities/tables and for each, provide details about what data will be stored in the entities/tables."
      ]
    },
    {
      "cell_type": "markdown",
      "metadata": {
        "id": "AiZXrfSMGqZm",
        "colab_type": "text"
      },
      "source": [
        "1. Customers\n",
        "\n",
        "-- Amount of luggage, plane ticket, proof of identification\n",
        "\n",
        "2. Airport Employees (Pilots)\n",
        "\n",
        "-- Flight attendant, airline, flight number\n",
        "\n",
        "3. Security\n",
        "\n",
        "-- Hazardous items, metal detectors, plane maintenence\n",
        "\n",
        "4. Terminal\n",
        "\n",
        "-- Customer Service, Airlines, Food/Drink\n",
        "\n",
        "5. Runway Schedule\n",
        "\n",
        "-- Takeoff Time, Arrival Time, Air Travel"
      ]
    },
    {
      "cell_type": "markdown",
      "metadata": {
        "id": "h2mJWTewHLSn",
        "colab_type": "text"
      },
      "source": [
        "Draw IO Entity Relationship Diagram \n",
        "\n",
        "\n",
        "  - ![Drawio ER Diagram of Airport](https://raw.githubusercontent.com/MaddieCree/Group1/master/Assignment1.png)"
      ]
    },
    {
      "cell_type": "markdown",
      "metadata": {
        "id": "WFQXwieoHiCe",
        "colab_type": "text"
      },
      "source": [
        "### provide a goal for your project "
      ]
    },
    {
      "cell_type": "markdown",
      "metadata": {
        "id": "cKmoiVHrHnHF",
        "colab_type": "text"
      },
      "source": [
        "-- The goal for our project is to organize the operations of an airport. We attempted to do this by simplifying the key parts of a working airport."
      ]
    }
  ]
}