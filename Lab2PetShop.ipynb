{
  "nbformat": 4,
  "nbformat_minor": 0,
  "metadata": {
    "colab": {
      "name": "Lab2PetShop",
      "provenance": [],
      "authorship_tag": "ABX9TyOybUdaYrLy+O6outkHcCyI",
      "include_colab_link": true
    },
    "kernelspec": {
      "name": "python3",
      "display_name": "Python 3"
    }
  },
  "cells": [
    {
      "cell_type": "markdown",
      "metadata": {
        "id": "view-in-github",
        "colab_type": "text"
      },
      "source": [
        "<a href=\"https://colab.research.google.com/github/MaddieCree/Group1/blob/master/Lab2PetShop.ipynb\" target=\"_parent\"><img src=\"https://colab.research.google.com/assets/colab-badge.svg\" alt=\"Open In Colab\"/></a>"
      ]
    },
    {
      "cell_type": "code",
      "metadata": {
        "id": "WuJXqAqZnIqe"
      },
      "source": [
        "Lab2 Pet Shop"
      ],
      "execution_count": null,
      "outputs": []
    },
    {
      "cell_type": "markdown",
      "metadata": {
        "id": "geQmO5G0ri7K"
      },
      "source": [
        "This diagram is a representation of a pet shop that breaks down the business. The six entities break down the largest sections of the business into a table. Each table has a primary key, this is unique. For example, loyalty program has a primary key of phone number because the phone number of each person in the program will differ. Inside of the loyalty program there is customers, animals purchased and pet food purchased. Animals purchased is a foreign key, which means that the column in the table matches a value in another table. The loyalty program entitiy has a foregin key of animals purchased which connects to the petID primary key under Pets. I used connectivity and cardanality to connect the tables because it shows the links from one point of the pet shop to another in a structure manner. This diagram breaks down the interrelations of a pet shop for the purpose of data organization and the execution of business plans. "
      ]
    },
    {
      "cell_type": "markdown",
      "metadata": {
        "id": "d37nNX5JqljN"
      },
      "source": [
        "![Pet Shop Diagram](https://raw.githubusercontent.com/MaddieCree/Lab2-Pet-Shop/master/Lab2%3A%20PetShop.png)"
      ]
    }
  ]
}